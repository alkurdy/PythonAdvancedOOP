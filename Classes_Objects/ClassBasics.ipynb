{
 "cells": [
  {
   "cell_type": "markdown",
   "metadata": {},
   "source": [
    "## Conceptual Foundation\n",
    "\n",
    "A class is a blueprint for creating objects. It defines:\n",
    "\n",
    "- Attributes (data/properties)\n",
    "- Methods (functions/behavior)\n",
    "\n"
   ]
  },
  {
   "cell_type": "code",
   "execution_count": 9,
   "metadata": {},
   "outputs": [
    {
     "name": "stdout",
     "output_type": "stream",
     "text": [
      "Rex the dog jumped.\n",
      "Whiskers the cat jumped.\n",
      "Rex has 2 eyes.\n",
      "Whiskers has 2 eyes.\n",
      "Both animals have the same number of eyes.\n"
     ]
    }
   ],
   "source": [
    "class Animal:\n",
    "    # Class attributes (shared by all instances)\n",
    "    eyeCount = 2\n",
    "    mouthCount = 1\n",
    "\n",
    "    # Constructor (initializes instance attributes)\n",
    "    def __init__(self, name, age, type, legs):\n",
    "        self.name = name\n",
    "        self.age = age\n",
    "        self.animalType = type  \n",
    "        self.numberOfLegs = legs  \n",
    "\n",
    "    # Method (behavior)\n",
    "    def jump(self):\n",
    "        print(f\"{self.name} the {self.animalType} jumped.\")\n",
    "\n",
    "# Create an instance of the Animal class\n",
    "dog = Animal(\"Rex\", 3, \"dog\", 4)\n",
    "cat = Animal(\"Whiskers\", 2, \"cat\", 4)\n",
    "\n",
    "# Call the jump method\n",
    "dog.jump()\n",
    "cat.jump()\n",
    "\n",
    "# Access the class attributes\n",
    "print(f\"{dog.name} has {dog.eyeCount} eyes.\")\n",
    "print(f\"{cat.name} has {cat.eyeCount} eyes.\")\n",
    "\n",
    "if (dog.eyeCount == cat.eyeCount):\n",
    "    print(\"Both animals have the same number of eyes.\")"
   ]
  },
  {
   "cell_type": "markdown",
   "metadata": {},
   "source": [
    "## Instance vs. Class Attributes\n",
    "\n",
    "| Instance Attributes       | Class Attributes         |\n",
    "|---------------------------|--------------------------|\n",
    "| Unique to each object     | Shared across all objects |\n",
    "| Defined in `__init__`     | Defined outside methods   |\n",
    "\n"
   ]
  },
  {
   "cell_type": "code",
   "execution_count": null,
   "metadata": {},
   "outputs": [],
   "source": []
  }
 ],
 "metadata": {
  "kernelspec": {
   "display_name": "base",
   "language": "python",
   "name": "python3"
  },
  "language_info": {
   "codemirror_mode": {
    "name": "ipython",
    "version": 3
   },
   "file_extension": ".py",
   "mimetype": "text/x-python",
   "name": "python",
   "nbconvert_exporter": "python",
   "pygments_lexer": "ipython3",
   "version": "3.12.4"
  }
 },
 "nbformat": 4,
 "nbformat_minor": 2
}
