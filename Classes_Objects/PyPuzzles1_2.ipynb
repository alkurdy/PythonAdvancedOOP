{
 "cells": [
  {
   "cell_type": "markdown",
   "metadata": {},
   "source": [
    "## Conceptual Foundation\n",
    "\n",
    "A class is a blueprint for creating objects. It defines:\n",
    "\n",
    "- Attributes (data/properties)\n",
    "- Methods (functions/behavior)\n",
    "\n"
   ]
  },
  {
   "cell_type": "code",
   "execution_count": null,
   "metadata": {},
   "outputs": [],
   "source": [
    "class Animal:\n",
    "    # Class attributes (shared by all instances)\n",
    "    class_attribute = [\"Mammal\", \"Bird\", \"Fish\", \"Reptile\", \"Amphibian\"]  # List of possible animal types\n",
    "\n",
    "    # Constructor (initializes instance attributes)\n",
    "    def __init__(self, param1, param2):\n",
    "        self.instance_attribute1 = param1  \n",
    "        self.instance_attribute2 = param2  \n",
    "\n",
    "    # Method (behavior)\n",
    "    def method_name(self):\n",
    "        print(\"This is a method inside the class.\")  # Add a valid indented block"
   ]
  },
  {
   "cell_type": "markdown",
   "metadata": {},
   "source": [
    "## Instance vs. Class Attributes\n",
    "\n",
    "| Instance Attributes       | Class Attributes         |\n",
    "|---------------------------|--------------------------|\n",
    "| Unique to each object     | Shared across all objects |\n",
    "| Defined in `__init__`     | Defined outside methods   |"
   ]
  }
 ],
 "metadata": {
  "kernelspec": {
   "display_name": "base",
   "language": "python",
   "name": "python3"
  },
  "language_info": {
   "codemirror_mode": {
    "name": "ipython",
    "version": 3
   },
   "file_extension": ".py",
   "mimetype": "text/x-python",
   "name": "python",
   "nbconvert_exporter": "python",
   "pygments_lexer": "ipython3",
   "version": "3.12.4"
  }
 },
 "nbformat": 4,
 "nbformat_minor": 2
}
